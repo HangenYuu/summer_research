{
 "cells": [
  {
   "cell_type": "code",
   "execution_count": 1,
   "id": "fbbc75f0",
   "metadata": {},
   "outputs": [
    {
     "name": "stdout",
     "output_type": "stream",
     "text": [
      "Connected to Arduino on COM14\n"
     ]
    },
    {
     "data": {
      "text/plain": [
       "True"
      ]
     },
     "execution_count": 1,
     "metadata": {},
     "output_type": "execute_result"
    }
   ],
   "source": [
    "from motor_control import StepperMotorController\n",
    "\n",
    "controller = StepperMotorController(\"COM14\")  # Replace with your port\n",
    "controller.connect()"
   ]
  },
  {
   "cell_type": "code",
   "execution_count": 8,
   "id": "d752adb1",
   "metadata": {},
   "outputs": [
    {
     "name": "stdout",
     "output_type": "stream",
     "text": [
      "Arduino response: Moved right 625 steps in 1906ms\n"
     ]
    },
    {
     "data": {
      "text/plain": [
       "True"
      ]
     },
     "execution_count": 8,
     "metadata": {},
     "output_type": "execute_result"
    }
   ],
   "source": [
    "controller.move_motor(\"left\", 625)"
   ]
  },
  {
   "cell_type": "code",
   "execution_count": 9,
   "id": "07a0f251",
   "metadata": {},
   "outputs": [
    {
     "name": "stdout",
     "output_type": "stream",
     "text": [
      "Arduino response: Moved left 625 steps in 1907ms\n"
     ]
    },
    {
     "data": {
      "text/plain": [
       "True"
      ]
     },
     "execution_count": 9,
     "metadata": {},
     "output_type": "execute_result"
    }
   ],
   "source": [
    "controller.move_motor(\"right\", 125)"
   ]
  },
  {
   "cell_type": "code",
   "execution_count": 11,
   "id": "ad507233",
   "metadata": {},
   "outputs": [
    {
     "name": "stdout",
     "output_type": "stream",
     "text": [
      "Disconnected from Arduino\n"
     ]
    }
   ],
   "source": [
    "controller.disconnect()"
   ]
  }
 ],
 "metadata": {
  "kernelspec": {
   "display_name": "agent_demo",
   "language": "python",
   "name": "python3"
  },
  "language_info": {
   "codemirror_mode": {
    "name": "ipython",
    "version": 3
   },
   "file_extension": ".py",
   "mimetype": "text/x-python",
   "name": "python",
   "nbconvert_exporter": "python",
   "pygments_lexer": "ipython3",
   "version": "3.12.9"
  }
 },
 "nbformat": 4,
 "nbformat_minor": 5
}
