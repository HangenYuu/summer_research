{
 "cells": [
  {
   "cell_type": "code",
   "execution_count": 1,
   "id": "fbbc75f0",
   "metadata": {},
   "outputs": [
    {
     "name": "stdout",
     "output_type": "stream",
     "text": [
      "Connected to Arduino on COM3\n"
     ]
    },
    {
     "data": {
      "text/plain": [
       "True"
      ]
     },
     "execution_count": 1,
     "metadata": {},
     "output_type": "execute_result"
    }
   ],
   "source": [
    "from motor_control import StepperMotorController\n",
    "\n",
    "controller = StepperMotorController(\"COM3\")  # Replace with your port\n",
    "controller.connect()"
   ]
  },
  {
   "cell_type": "code",
   "execution_count": 5,
   "id": "d752adb1",
   "metadata": {},
   "outputs": [
    {
     "name": "stdout",
     "output_type": "stream",
     "text": [
      "Arduino response: Moved left 1000 steps in 3051ms\n"
     ]
    },
    {
     "data": {
      "text/plain": [
       "True"
      ]
     },
     "execution_count": 5,
     "metadata": {},
     "output_type": "execute_result"
    }
   ],
   "source": [
    "controller.move_motor(\"left\", 10)"
   ]
  },
  {
   "cell_type": "code",
   "execution_count": 28,
   "id": "07a0f251",
   "metadata": {},
   "outputs": [
    {
     "name": "stdout",
     "output_type": "stream",
     "text": [
      "Arduino response: Moved left 1000 steps in 3051ms\n"
     ]
    },
    {
     "data": {
      "text/plain": [
       "True"
      ]
     },
     "execution_count": 28,
     "metadata": {},
     "output_type": "execute_result"
    }
   ],
   "source": [
    "controller.move_motor(\"right\", 4000)"
   ]
  },
  {
   "cell_type": "code",
   "execution_count": 11,
   "id": "ad507233",
   "metadata": {},
   "outputs": [
    {
     "name": "stdout",
     "output_type": "stream",
     "text": [
      "Disconnected from Arduino\n"
     ]
    }
   ],
   "source": [
    "controller.disconnect()"
   ]
  }
 ],
 "metadata": {
  "kernelspec": {
   "display_name": "agent_demo",
   "language": "python",
   "name": "python3"
  },
  "language_info": {
   "codemirror_mode": {
    "name": "ipython",
    "version": 3
   },
   "file_extension": ".py",
   "mimetype": "text/x-python",
   "name": "python",
   "nbconvert_exporter": "python",
   "pygments_lexer": "ipython3",
   "version": "3.12.11"
  }
 },
 "nbformat": 4,
 "nbformat_minor": 5
}
